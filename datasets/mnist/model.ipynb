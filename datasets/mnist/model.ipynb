{
 "cells": [
  {
   "cell_type": "code",
   "execution_count": 1,
   "metadata": {},
   "outputs": [],
   "source": [
    "import torch\n",
    "import torch.nn as nn\n",
    "import torch.optim as optim\n",
    "import torch.nn.functional as F\n",
    "import torchvision\n",
    "import torchvision.transforms as transforms\n",
    "from torch.utils.data import TensorDataset, DataLoader"
   ]
  },
  {
   "cell_type": "code",
   "execution_count": 2,
   "metadata": {},
   "outputs": [],
   "source": [
    "# Define transforms (convert to tensor and normalize)\n",
    "transform = transforms.Compose([\n",
    "    transforms.ToTensor(),\n",
    "    transforms.Normalize((0.5,), (0.5,))  # Normalize to [-1, 1]\n",
    "])\n",
    "\n",
    "# Load training dataset\n",
    "train_dataset = torchvision.datasets.MNIST(\n",
    "    root='./data',           # Directory to save/load data\n",
    "    train=True,              # Load training set\n",
    "    download=True,           # Download if not already present\n",
    "    transform=transform      # Apply transforms\n",
    ")\n",
    "\n",
    "# Load test dataset\n",
    "test_dataset = torchvision.datasets.MNIST(\n",
    "    root='./data',\n",
    "    train=False,             # Load test set\n",
    "    download=True,\n",
    "    transform=transform\n",
    ")"
   ]
  },
  {
   "cell_type": "code",
   "execution_count": 8,
   "metadata": {},
   "outputs": [],
   "source": [
    "# Define the neural network\n",
    "class MNISTNet(nn.Module):\n",
    "    def __init__(self):\n",
    "        super(MNISTNet, self).__init__()\n",
    "        # Input: 28x28 = 784 pixels\n",
    "        self.fc1 = nn.Linear(784, 256)\n",
    "        self.fc2 = nn.Linear(256, 128)\n",
    "        self.fc3 = nn.Linear(128, 64)\n",
    "        self.fc4 = nn.Linear(64, 10)  # 10 classes (digits 0-9)\n",
    "        self.dropout = nn.Dropout(0.2)\n",
    "        \n",
    "    def forward(self, x):\n",
    "        # Flatten the image: (batch_size, 1, 28, 28) -> (batch_size, 784)\n",
    "        x = x.view(-1, 784)\n",
    "        \n",
    "        x = F.relu(self.fc1(x))\n",
    "        x = self.dropout(x)\n",
    "        x = F.relu(self.fc2(x))\n",
    "        x = self.dropout(x)\n",
    "        x = F.relu(self.fc3(x))   # No activation here, will use CrossEntropyLoss\n",
    "        x = self.fc4(x)\n",
    "        return x"
   ]
  },
  {
   "cell_type": "code",
   "execution_count": 9,
   "metadata": {},
   "outputs": [],
   "source": [
    "train_loader = DataLoader(train_dataset, batch_size=64, shuffle=True)\n",
    "test_loader = DataLoader(test_dataset, batch_size=64, shuffle=False)"
   ]
  },
  {
   "cell_type": "code",
   "execution_count": 10,
   "metadata": {},
   "outputs": [],
   "source": [
    "# Initialize model, loss function, and optimizer\n",
    "device = torch.device('cuda' if torch.cuda.is_available() else 'cpu')\n",
    "model = MNISTNet().to(device)\n",
    "criterion = nn.CrossEntropyLoss()\n",
    "optimizer = optim.Adam(model.parameters(), lr=0.001)\n",
    "\n",
    "# Training function\n",
    "def train(model, train_loader, criterion, optimizer, epochs=5):\n",
    "    model.train()\n",
    "    for epoch in range(epochs):\n",
    "        running_loss = 0.0\n",
    "        correct = 0\n",
    "        total = 0\n",
    "        \n",
    "        for batch_idx, (data, target) in enumerate(train_loader):\n",
    "            data, target = data.to(device), target.to(device)\n",
    "            \n",
    "            # Zero gradients\n",
    "            optimizer.zero_grad()\n",
    "            \n",
    "            # Forward pass\n",
    "            output = model(data)\n",
    "            loss = criterion(output, target)\n",
    "            \n",
    "            # Backward pass\n",
    "            loss.backward()\n",
    "            optimizer.step()\n",
    "            \n",
    "            # Statistics\n",
    "            running_loss += loss.item()\n",
    "            _, predicted = torch.max(output.data, 1)\n",
    "            total += target.size(0)\n",
    "            correct += (predicted == target).sum().item()\n",
    "            \n",
    "            if batch_idx % 200 == 0:\n",
    "                print(f'Epoch {epoch+1}/{epochs}, Batch {batch_idx}, '\n",
    "                      f'Loss: {loss.item():.4f}')\n",
    "        \n",
    "        accuracy = 100 * correct / total\n",
    "        print(f'Epoch {epoch+1}/{epochs} - Loss: {running_loss/len(train_loader):.4f}, '\n",
    "              f'Accuracy: {accuracy:.2f}%')\n"
   ]
  },
  {
   "cell_type": "code",
   "execution_count": 11,
   "metadata": {},
   "outputs": [],
   "source": [
    "# Testing function\n",
    "def test(model, test_loader):\n",
    "    model.eval()\n",
    "    correct = 0\n",
    "    total = 0\n",
    "    \n",
    "    with torch.no_grad():\n",
    "        for data, target in test_loader:\n",
    "            data, target = data.to(device), target.to(device)\n",
    "            output = model(data)\n",
    "            _, predicted = torch.max(output, 1)\n",
    "            total += target.size(0)\n",
    "            correct += (predicted == target).sum().item()\n",
    "    \n",
    "    accuracy = 100 * correct / total\n",
    "    print(f'Test Accuracy: {accuracy:.2f}%')"
   ]
  },
  {
   "cell_type": "code",
   "execution_count": 12,
   "metadata": {},
   "outputs": [
    {
     "name": "stdout",
     "output_type": "stream",
     "text": [
      "Using device: cpu\n",
      "Epoch 1/5, Batch 0, Loss: 2.2776\n",
      "Epoch 1/5, Batch 200, Loss: 0.3646\n",
      "Epoch 1/5, Batch 400, Loss: 0.4820\n",
      "Epoch 1/5, Batch 600, Loss: 0.1804\n",
      "Epoch 1/5, Batch 800, Loss: 0.2163\n",
      "Epoch 1/5 - Loss: 0.4351, Accuracy: 86.20%\n",
      "Epoch 2/5, Batch 0, Loss: 0.5291\n",
      "Epoch 2/5, Batch 200, Loss: 0.2534\n",
      "Epoch 2/5, Batch 400, Loss: 0.1936\n",
      "Epoch 2/5, Batch 600, Loss: 0.2397\n",
      "Epoch 2/5, Batch 800, Loss: 0.3056\n",
      "Epoch 2/5 - Loss: 0.2145, Accuracy: 93.41%\n",
      "Epoch 3/5, Batch 0, Loss: 0.1733\n",
      "Epoch 3/5, Batch 200, Loss: 0.2001\n",
      "Epoch 3/5, Batch 400, Loss: 0.1870\n",
      "Epoch 3/5, Batch 600, Loss: 0.2056\n",
      "Epoch 3/5, Batch 800, Loss: 0.0961\n",
      "Epoch 3/5 - Loss: 0.1783, Accuracy: 94.52%\n",
      "Epoch 4/5, Batch 0, Loss: 0.1019\n",
      "Epoch 4/5, Batch 200, Loss: 0.0508\n",
      "Epoch 4/5, Batch 400, Loss: 0.2110\n",
      "Epoch 4/5, Batch 600, Loss: 0.2289\n",
      "Epoch 4/5, Batch 800, Loss: 0.2059\n",
      "Epoch 4/5 - Loss: 0.1540, Accuracy: 95.18%\n",
      "Epoch 5/5, Batch 0, Loss: 0.0489\n",
      "Epoch 5/5, Batch 200, Loss: 0.1265\n",
      "Epoch 5/5, Batch 400, Loss: 0.0951\n",
      "Epoch 5/5, Batch 600, Loss: 0.0891\n",
      "Epoch 5/5, Batch 800, Loss: 0.0884\n",
      "Epoch 5/5 - Loss: 0.1386, Accuracy: 95.61%\n",
      "Test Accuracy: 96.70%\n"
     ]
    }
   ],
   "source": [
    "# Train and test the model\n",
    "print(f\"Using device: {device}\")\n",
    "train(model, train_loader, criterion, optimizer, epochs=5)\n",
    "test(model, test_loader)"
   ]
  },
  {
   "cell_type": "code",
   "execution_count": null,
   "metadata": {},
   "outputs": [],
   "source": []
  }
 ],
 "metadata": {
  "kernelspec": {
   "display_name": "nn",
   "language": "python",
   "name": "python3"
  },
  "language_info": {
   "codemirror_mode": {
    "name": "ipython",
    "version": 3
   },
   "file_extension": ".py",
   "mimetype": "text/x-python",
   "name": "python",
   "nbconvert_exporter": "python",
   "pygments_lexer": "ipython3",
   "version": "3.13.1"
  }
 },
 "nbformat": 4,
 "nbformat_minor": 2
}
